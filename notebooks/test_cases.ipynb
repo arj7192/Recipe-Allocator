{
 "cells": [
  {
   "cell_type": "code",
   "execution_count": 1,
   "metadata": {},
   "outputs": [],
   "source": [
    "%load_ext autoreload\n",
    "%autoreload 2"
   ]
  },
  {
   "cell_type": "code",
   "execution_count": 2,
   "metadata": {},
   "outputs": [],
   "source": [
    "import sys\n",
    "sys.path.append(\"..\")\n",
    "import os\n",
    "import json\n",
    "from recipe_allocator import defaults_recipe_allocation"
   ]
  },
  {
   "cell_type": "code",
   "execution_count": 3,
   "metadata": {},
   "outputs": [],
   "source": [
    "import configparser\n",
    "\n",
    "config = configparser.ConfigParser()\n",
    "config.read('../config.ini')\n",
    "\n",
    "orders_data_path = os.path.join('..', config['ORDERS']['file_path'])\n",
    "stock_data_path = os.path.join('..', config['STOCKS']['file_path'])"
   ]
  },
  {
   "cell_type": "markdown",
   "metadata": {},
   "source": [
    "### test-case 1"
   ]
  },
  {
   "cell_type": "code",
   "execution_count": 4,
   "metadata": {},
   "outputs": [],
   "source": [
    "with open(orders_data_path) as f:\n",
    "    orders_data = json.load(f)\n",
    "with open(stock_data_path) as f:\n",
    "    stock_data = json.load(f)"
   ]
  },
  {
   "cell_type": "code",
   "execution_count": 5,
   "metadata": {},
   "outputs": [
    {
     "name": "stdout",
     "output_type": "stream",
     "text": [
      "{'two_recipes': {'two_portions': 58684, 'four_portions': 13363}, 'three_recipes': {'two_portions': 103886, 'four_portions': 22061}, 'four_recipes': {'two_portions': 35154, 'four_portions': 18434}}\n"
     ]
    }
   ],
   "source": [
    "print(orders_data)"
   ]
  },
  {
   "cell_type": "code",
   "execution_count": 6,
   "metadata": {},
   "outputs": [
    {
     "name": "stdout",
     "output_type": "stream",
     "text": [
      "{'recipe_1': {'stock_count': 3359}, 'recipe_2': {'stock_count': 6502}, 'recipe_3': {'stock_count': 1805}, 'recipe_4': {'stock_count': 11217}, 'recipe_5': {'stock_count': 1228}, 'recipe_6': {'stock_count': 4370}, 'recipe_7': {'stock_count': 12104}, 'recipe_8': {'stock_count': 2304}, 'recipe_9': {'stock_count': 9190}, 'recipe_10': {'stock_count': 9149}, 'recipe_11': {'stock_count': 13370}, 'recipe_12': {'stock_count': 15490}, 'recipe_13': {'stock_count': 16334}, 'recipe_14': {'stock_count': 13140}, 'recipe_15': {'stock_count': 3659}, 'recipe_16': {'stock_count': 1280}, 'recipe_17': {'stock_count': 10059}, 'recipe_18': {'stock_count': 16849}, 'recipe_19': {'stock_count': 17576}, 'recipe_20': {'stock_count': 4404}, 'recipe_21': {'stock_count': 17933}, 'recipe_22': {'stock_count': 23955}}\n"
     ]
    }
   ],
   "source": [
    "print(stock_data)"
   ]
  },
  {
   "cell_type": "code",
   "execution_count": 7,
   "metadata": {},
   "outputs": [
    {
     "name": "stdout",
     "output_type": "stream",
     "text": [
      "False\n",
      "CPU times: user 490 µs, sys: 172 µs, total: 662 µs\n",
      "Wall time: 545 µs\n"
     ]
    }
   ],
   "source": [
    "%%time\n",
    "print(defaults_recipe_allocation(orders_data=orders_data, stock_data=stock_data, debug=True))"
   ]
  },
  {
   "cell_type": "markdown",
   "metadata": {},
   "source": [
    "### test-case 2"
   ]
  },
  {
   "cell_type": "code",
   "execution_count": 8,
   "metadata": {},
   "outputs": [],
   "source": [
    "orders_data = {'two_recipes': {'two_portions': 10000, 'four_portions': 9870},\n",
    " 'three_recipes': {'two_portions': 5430, 'four_portions': 1230},\n",
    " 'four_recipes': {'two_portions': 360, 'four_portions': 1000}}"
   ]
  },
  {
   "cell_type": "code",
   "execution_count": 9,
   "metadata": {},
   "outputs": [
    {
     "name": "stdout",
     "output_type": "stream",
     "text": [
      "recipe stock list after iteration 1\n",
      "iteration 1 = 4 recipes, 4 portions, 1000 customers\n",
      "[0, 0, 0, 1, 587, 939, 2174, 2708, 6502, 9149, 9190, 10059, 11217, 12104, 13140, 13370, 15490, 16334, 16849, 17576, 17933, 23955]\n",
      "recipe stock list after iteration 2\n",
      "iteration 2 = 4 recipes, 2 portions, 360 customers\n",
      "[0, 0, 0, 1, 1, 219, 1454, 1988, 6368, 9149, 9190, 10059, 11217, 12104, 13140, 13370, 15490, 16334, 16849, 17576, 17933, 23955]\n",
      "recipe stock list after iteration 3\n",
      "iteration 3 = 3 recipes, 4 portions, 1230 customers\n",
      "[0, 0, 0, 0, 1, 1, 2, 3, 1664, 5681, 6258, 10059, 11217, 12104, 13140, 13370, 15490, 16334, 16849, 17576, 17933, 23955]\n",
      "recipe stock list after iteration 4\n",
      "iteration 4 = 3 recipes, 2 portions, 5430 customers\n",
      "[0, 0, 0, 0, 0, 0, 0, 1, 1, 1, 1, 863, 6039, 7504, 13140, 13370, 15490, 16334, 16849, 17576, 17933, 23955]\n",
      "recipe stock list after iteration 5\n",
      "iteration 5 = 2 recipes, 4 portions, 9870 customers\n",
      "[0, 0, 0, 0, 0, 0, 0, 0, 0, 1, 1, 1, 1, 2, 2, 2, 3, 3, 12033, 16160, 17933, 23955]\n",
      "recipe stock list after iteration 6\n",
      "iteration 6 = 2 recipes, 2 portions, 10000 customers\n",
      "[0, 0, 0, 0, 0, 0, 0, 0, 0, 0, 0, 0, 0, 1, 1, 1, 1, 1, 1, 1, 9969, 20121]\n",
      "True\n",
      "CPU times: user 5.31 ms, sys: 2.38 ms, total: 7.68 ms\n",
      "Wall time: 12 ms\n"
     ]
    }
   ],
   "source": [
    "%%time\n",
    "print(defaults_recipe_allocation(orders_data=orders_data, stock_data=stock_data, debug=True))"
   ]
  },
  {
   "cell_type": "markdown",
   "metadata": {},
   "source": [
    "### test-case 3"
   ]
  },
  {
   "cell_type": "code",
   "execution_count": 10,
   "metadata": {},
   "outputs": [],
   "source": [
    "stock_data = {'recipe_1': {'stock_count': 3359}, \n",
    "              'recipe_2': {'stock_count': 6502}, \n",
    "              'recipe_3': {'stock_count': 1805}, \n",
    "              'recipe_4': {'stock_count': 11217}, \n",
    "              'recipe_5': {'stock_count': 1228}, \n",
    "              'recipe_6': {'stock_count': 4370}, \n",
    "              'recipe_7': {'stock_count': 12104}, \n",
    "              'recipe_8': {'stock_count': 2304}, \n",
    "              'recipe_9': {'stock_count': 9190}, \n",
    "              'recipe_10': {'stock_count': 9149}, \n",
    "              'recipe_11': {'stock_count': 13370}, \n",
    "              'recipe_12': {'stock_count': 15490}, \n",
    "              'recipe_13': {'stock_count': 16334},}"
   ]
  },
  {
   "cell_type": "code",
   "execution_count": 11,
   "metadata": {},
   "outputs": [
    {
     "name": "stdout",
     "output_type": "stream",
     "text": [
      "False\n",
      "CPU times: user 272 µs, sys: 87 µs, total: 359 µs\n",
      "Wall time: 356 µs\n"
     ]
    }
   ],
   "source": [
    "%%time\n",
    "print(defaults_recipe_allocation(orders_data=orders_data, stock_data=stock_data, debug=True))"
   ]
  },
  {
   "cell_type": "markdown",
   "metadata": {},
   "source": [
    "### test-case 4"
   ]
  },
  {
   "cell_type": "code",
   "execution_count": 12,
   "metadata": {},
   "outputs": [],
   "source": [
    "stock_data = {'recipe_1': {'stock_count': 40000},\n",
    "             'recipe_2': {'stock_count': 40000},}\n",
    "orders_data = {'two_recipes': {'two_portions': 10000, 'four_portions': 5000},}"
   ]
  },
  {
   "cell_type": "code",
   "execution_count": 13,
   "metadata": {},
   "outputs": [
    {
     "name": "stdout",
     "output_type": "stream",
     "text": [
      "recipe stock list after iteration 1\n",
      "iteration 1 = 2 recipes, 4 portions, 5000 customers\n",
      "[20000, 20000]\n",
      "recipe stock list after iteration 2\n",
      "iteration 2 = 2 recipes, 2 portions, 10000 customers\n",
      "[0, 0]\n",
      "True\n",
      "CPU times: user 1.84 ms, sys: 1.18 ms, total: 3.02 ms\n",
      "Wall time: 2.22 ms\n"
     ]
    }
   ],
   "source": [
    "%%time\n",
    "print(defaults_recipe_allocation(orders_data=orders_data, stock_data=stock_data, debug=True))"
   ]
  },
  {
   "cell_type": "markdown",
   "metadata": {},
   "source": [
    "### test-case 5"
   ]
  },
  {
   "cell_type": "code",
   "execution_count": 14,
   "metadata": {},
   "outputs": [],
   "source": [
    "stock_data = {'recipe_1': {'stock_count': 1},}\n",
    "orders_data = {'two_recipes': {'two_portions': 10000, 'four_portions': 5000},}"
   ]
  },
  {
   "cell_type": "code",
   "execution_count": 15,
   "metadata": {},
   "outputs": [
    {
     "name": "stdout",
     "output_type": "stream",
     "text": [
      "False\n",
      "CPU times: user 500 µs, sys: 540 µs, total: 1.04 ms\n",
      "Wall time: 732 µs\n"
     ]
    }
   ],
   "source": [
    "%%time\n",
    "print(defaults_recipe_allocation(orders_data=orders_data, stock_data=stock_data, debug=True))"
   ]
  },
  {
   "cell_type": "markdown",
   "metadata": {},
   "source": [
    "### test-case 6"
   ]
  },
  {
   "cell_type": "code",
   "execution_count": 16,
   "metadata": {},
   "outputs": [],
   "source": [
    "stock_data = {}\n",
    "orders_data = {'two_recipes': {'two_portions': 10000, 'four_portions': 5000},}"
   ]
  },
  {
   "cell_type": "code",
   "execution_count": 17,
   "metadata": {},
   "outputs": [
    {
     "name": "stdout",
     "output_type": "stream",
     "text": [
      "False\n",
      "CPU times: user 409 µs, sys: 272 µs, total: 681 µs\n",
      "Wall time: 416 µs\n"
     ]
    }
   ],
   "source": [
    "%%time\n",
    "print(defaults_recipe_allocation(orders_data=orders_data, stock_data=stock_data, debug=True))"
   ]
  },
  {
   "cell_type": "markdown",
   "metadata": {},
   "source": [
    "### test-case 7"
   ]
  },
  {
   "cell_type": "code",
   "execution_count": 18,
   "metadata": {},
   "outputs": [],
   "source": [
    "stock_data = {}\n",
    "orders_data = {}"
   ]
  },
  {
   "cell_type": "code",
   "execution_count": 19,
   "metadata": {},
   "outputs": [
    {
     "name": "stdout",
     "output_type": "stream",
     "text": [
      "True\n",
      "CPU times: user 321 µs, sys: 357 µs, total: 678 µs\n",
      "Wall time: 492 µs\n"
     ]
    }
   ],
   "source": [
    "%%time\n",
    "print(defaults_recipe_allocation(orders_data=orders_data, stock_data=stock_data, debug=True))"
   ]
  },
  {
   "cell_type": "markdown",
   "metadata": {},
   "source": [
    "### test-case 8"
   ]
  },
  {
   "cell_type": "code",
   "execution_count": 20,
   "metadata": {},
   "outputs": [],
   "source": [
    "stock_data = {f'recipe_{i}': {'stock_count': 800} for i in range(100)}\n",
    "orders_data = {'two_recipes': {'two_portions': 10000, 'four_portions': 5000},}"
   ]
  },
  {
   "cell_type": "code",
   "execution_count": 21,
   "metadata": {},
   "outputs": [
    {
     "name": "stdout",
     "output_type": "stream",
     "text": [
      "recipe stock list after iteration 1\n",
      "iteration 1 = 2 recipes, 4 portions, 5000 customers\n",
      "[0, 0, 0, 0, 0, 0, 0, 0, 0, 0, 0, 0, 0, 0, 0, 0, 0, 0, 0, 0, 0, 0, 0, 0, 0, 0, 0, 0, 0, 0, 0, 0, 0, 0, 0, 0, 0, 0, 0, 0, 0, 0, 0, 0, 0, 0, 0, 0, 0, 0, 800, 800, 800, 800, 800, 800, 800, 800, 800, 800, 800, 800, 800, 800, 800, 800, 800, 800, 800, 800, 800, 800, 800, 800, 800, 800, 800, 800, 800, 800, 800, 800, 800, 800, 800, 800, 800, 800, 800, 800, 800, 800, 800, 800, 800, 800, 800, 800, 800, 800]\n",
      "recipe stock list after iteration 2\n",
      "iteration 2 = 2 recipes, 2 portions, 10000 customers\n",
      "[0, 0, 0, 0, 0, 0, 0, 0, 0, 0, 0, 0, 0, 0, 0, 0, 0, 0, 0, 0, 0, 0, 0, 0, 0, 0, 0, 0, 0, 0, 0, 0, 0, 0, 0, 0, 0, 0, 0, 0, 0, 0, 0, 0, 0, 0, 0, 0, 0, 0, 0, 0, 0, 0, 0, 0, 0, 0, 0, 0, 0, 0, 0, 0, 0, 0, 0, 0, 0, 0, 0, 0, 0, 0, 0, 0, 0, 0, 0, 0, 0, 0, 0, 0, 0, 0, 0, 0, 0, 0, 0, 0, 0, 0, 0, 0, 0, 0, 0, 0]\n",
      "True\n",
      "CPU times: user 2.48 ms, sys: 1.27 ms, total: 3.76 ms\n",
      "Wall time: 4.18 ms\n"
     ]
    }
   ],
   "source": [
    "%%time\n",
    "print(defaults_recipe_allocation(orders_data=orders_data, stock_data=stock_data, debug=True))"
   ]
  },
  {
   "cell_type": "markdown",
   "metadata": {},
   "source": [
    "### test-case 9"
   ]
  },
  {
   "cell_type": "code",
   "execution_count": 22,
   "metadata": {},
   "outputs": [],
   "source": [
    "stock_data = {f'recipe_{i}': {'stock_count': 8} for i in range(10000)}\n",
    "orders_data = {'two_recipes': {'two_portions': 10000, 'four_portions': 5000},}"
   ]
  },
  {
   "cell_type": "code",
   "execution_count": 23,
   "metadata": {},
   "outputs": [
    {
     "name": "stdout",
     "output_type": "stream",
     "text": [
      "True\n",
      "CPU times: user 98.1 ms, sys: 5.89 ms, total: 104 ms\n",
      "Wall time: 106 ms\n"
     ]
    }
   ],
   "source": [
    "%%time\n",
    "print(defaults_recipe_allocation(orders_data=orders_data, stock_data=stock_data, debug=False))"
   ]
  },
  {
   "cell_type": "markdown",
   "metadata": {},
   "source": [
    "### test-case 10"
   ]
  },
  {
   "cell_type": "code",
   "execution_count": 24,
   "metadata": {},
   "outputs": [],
   "source": [
    "stock_data = {f'recipe_{i}': {'stock_count': 8} for i in range(1000000)}\n",
    "orders_data = {'two_recipes': {'two_portions': 1000000, 'four_portions': 500000},}"
   ]
  },
  {
   "cell_type": "code",
   "execution_count": 25,
   "metadata": {},
   "outputs": [
    {
     "name": "stdout",
     "output_type": "stream",
     "text": [
      "True\n",
      "CPU times: user 8.98 s, sys: 110 ms, total: 9.09 s\n",
      "Wall time: 9.34 s\n"
     ]
    }
   ],
   "source": [
    "%%time\n",
    "print(defaults_recipe_allocation(orders_data=orders_data, stock_data=stock_data, debug=False))"
   ]
  },
  {
   "cell_type": "markdown",
   "metadata": {},
   "source": [
    "### test-case 11"
   ]
  },
  {
   "cell_type": "code",
   "execution_count": 26,
   "metadata": {},
   "outputs": [],
   "source": [
    "stock_data = {f'recipe_{i}': {'stock_count': 8} for i in range(1000000)}\n",
    "orders_data = {'two_recipes': {'two_portions': 10000, 'four_portions': 50000},\n",
    "              'three_recipes': {'two_portions': 10000, 'four_portions': 50000},\n",
    "              'four_recipes': {'two_portions': 10000, 'four_portions': 50000},}"
   ]
  },
  {
   "cell_type": "code",
   "execution_count": 27,
   "metadata": {},
   "outputs": [
    {
     "name": "stdout",
     "output_type": "stream",
     "text": [
      "True\n",
      "CPU times: user 6.84 s, sys: 115 ms, total: 6.95 s\n",
      "Wall time: 6.97 s\n"
     ]
    }
   ],
   "source": [
    "%%time\n",
    "print(defaults_recipe_allocation(orders_data=orders_data, stock_data=stock_data, debug=False))"
   ]
  },
  {
   "cell_type": "markdown",
   "metadata": {},
   "source": [
    "### test-case 12"
   ]
  },
  {
   "cell_type": "code",
   "execution_count": 28,
   "metadata": {},
   "outputs": [],
   "source": [
    "stock_data = {f'recipe_{i}': {'stock_count': 8} for i in range(100)}\n",
    "orders_data = {'two_recipes': {'two_portions': 100, 'four_portions': 50},}"
   ]
  },
  {
   "cell_type": "code",
   "execution_count": 29,
   "metadata": {},
   "outputs": [
    {
     "name": "stdout",
     "output_type": "stream",
     "text": [
      "recipe stock list after iteration 1\n",
      "iteration 1 = 2 recipes, 4 portions, 50 customers\n",
      "[0, 0, 0, 0, 0, 0, 0, 0, 0, 0, 0, 0, 0, 0, 0, 0, 0, 0, 0, 0, 0, 0, 0, 0, 0, 0, 0, 0, 0, 0, 0, 0, 0, 0, 0, 0, 0, 0, 0, 0, 0, 0, 0, 0, 0, 0, 0, 0, 0, 0, 8, 8, 8, 8, 8, 8, 8, 8, 8, 8, 8, 8, 8, 8, 8, 8, 8, 8, 8, 8, 8, 8, 8, 8, 8, 8, 8, 8, 8, 8, 8, 8, 8, 8, 8, 8, 8, 8, 8, 8, 8, 8, 8, 8, 8, 8, 8, 8, 8, 8]\n",
      "recipe stock list after iteration 2\n",
      "iteration 2 = 2 recipes, 2 portions, 100 customers\n",
      "[0, 0, 0, 0, 0, 0, 0, 0, 0, 0, 0, 0, 0, 0, 0, 0, 0, 0, 0, 0, 0, 0, 0, 0, 0, 0, 0, 0, 0, 0, 0, 0, 0, 0, 0, 0, 0, 0, 0, 0, 0, 0, 0, 0, 0, 0, 0, 0, 0, 0, 0, 0, 0, 0, 0, 0, 0, 0, 0, 0, 0, 0, 0, 0, 0, 0, 0, 0, 0, 0, 0, 0, 0, 0, 0, 0, 0, 0, 0, 0, 0, 0, 0, 0, 0, 0, 0, 0, 0, 0, 0, 0, 0, 0, 0, 0, 0, 0, 0, 0]\n",
      "True\n",
      "CPU times: user 2.62 ms, sys: 1.14 ms, total: 3.76 ms\n",
      "Wall time: 2.87 ms\n"
     ]
    }
   ],
   "source": [
    "%%time\n",
    "print(defaults_recipe_allocation(orders_data=orders_data, stock_data=stock_data, debug=True))"
   ]
  },
  {
   "cell_type": "markdown",
   "metadata": {},
   "source": [
    "### test-case 13"
   ]
  },
  {
   "cell_type": "code",
   "execution_count": 30,
   "metadata": {},
   "outputs": [],
   "source": [
    "stock_data = {f'recipe_{i}': {'stock_count': 8} for i in range(100)}\n",
    "orders_data = {'two_recipes': {'two_portions': 100, 'four_portions': 51},}"
   ]
  },
  {
   "cell_type": "code",
   "execution_count": 31,
   "metadata": {},
   "outputs": [
    {
     "name": "stdout",
     "output_type": "stream",
     "text": [
      "False\n",
      "CPU times: user 790 µs, sys: 617 µs, total: 1.41 ms\n",
      "Wall time: 861 µs\n"
     ]
    }
   ],
   "source": [
    "%%time\n",
    "print(defaults_recipe_allocation(orders_data=orders_data, stock_data=stock_data, debug=True))"
   ]
  },
  {
   "cell_type": "markdown",
   "metadata": {},
   "source": [
    "### test-case 14"
   ]
  },
  {
   "cell_type": "code",
   "execution_count": 32,
   "metadata": {},
   "outputs": [],
   "source": [
    "stock_data = {f'recipe_{i}': {'stock_count': 400} for i in range(2)}\n",
    "orders_data = {'two_recipes': {'two_portions': 100, 'four_portions': 50},}"
   ]
  },
  {
   "cell_type": "code",
   "execution_count": 33,
   "metadata": {},
   "outputs": [
    {
     "name": "stdout",
     "output_type": "stream",
     "text": [
      "recipe stock list after iteration 1\n",
      "iteration 1 = 2 recipes, 4 portions, 50 customers\n",
      "[200, 200]\n",
      "recipe stock list after iteration 2\n",
      "iteration 2 = 2 recipes, 2 portions, 100 customers\n",
      "[0, 0]\n",
      "True\n",
      "CPU times: user 1.46 ms, sys: 1.22 ms, total: 2.69 ms\n",
      "Wall time: 2.07 ms\n"
     ]
    }
   ],
   "source": [
    "%%time\n",
    "print(defaults_recipe_allocation(orders_data=orders_data, stock_data=stock_data, debug=True))"
   ]
  },
  {
   "cell_type": "markdown",
   "metadata": {},
   "source": [
    "### test-case 15"
   ]
  },
  {
   "cell_type": "code",
   "execution_count": 34,
   "metadata": {},
   "outputs": [],
   "source": [
    "stock_data = {f'recipe_{i}': {'stock_count': 400} for i in range(2)}\n",
    "orders_data = {'two_recipes': {'two_portions': 100, 'four_portions': 51},}"
   ]
  },
  {
   "cell_type": "code",
   "execution_count": 35,
   "metadata": {},
   "outputs": [
    {
     "name": "stdout",
     "output_type": "stream",
     "text": [
      "False\n",
      "CPU times: user 283 µs, sys: 106 µs, total: 389 µs\n",
      "Wall time: 354 µs\n"
     ]
    }
   ],
   "source": [
    "%%time\n",
    "print(defaults_recipe_allocation(orders_data=orders_data, stock_data=stock_data, debug=True))"
   ]
  },
  {
   "cell_type": "markdown",
   "metadata": {},
   "source": [
    "### test-case 16"
   ]
  },
  {
   "cell_type": "code",
   "execution_count": 36,
   "metadata": {},
   "outputs": [],
   "source": [
    "stock_data = {f'recipe_{i}': {'stock_count': 800} for i in range(1)}\n",
    "orders_data = {'two_recipes': {'two_portions': 100, 'four_portions': 50},}"
   ]
  },
  {
   "cell_type": "code",
   "execution_count": 37,
   "metadata": {},
   "outputs": [
    {
     "name": "stdout",
     "output_type": "stream",
     "text": [
      "False\n",
      "CPU times: user 320 µs, sys: 94 µs, total: 414 µs\n",
      "Wall time: 374 µs\n"
     ]
    }
   ],
   "source": [
    "%%time\n",
    "print(defaults_recipe_allocation(orders_data=orders_data, stock_data=stock_data, debug=True))"
   ]
  }
 ],
 "metadata": {
  "kernelspec": {
   "display_name": "Python 3",
   "language": "python",
   "name": "python3"
  },
  "language_info": {
   "codemirror_mode": {
    "name": "ipython",
    "version": 3
   },
   "file_extension": ".py",
   "mimetype": "text/x-python",
   "name": "python",
   "nbconvert_exporter": "python",
   "pygments_lexer": "ipython3",
   "version": "3.7.0"
  }
 },
 "nbformat": 4,
 "nbformat_minor": 2
}
