{
 "cells": [
  {
   "cell_type": "code",
   "execution_count": 1,
   "metadata": {},
   "outputs": [],
   "source": [
    "import json\n",
    "import numpy as np\n",
    "import pandas as pd\n",
    "from tqdm import tqdm\n",
    "import sys\n",
    "sys.path.append(\"..\")"
   ]
  },
  {
   "cell_type": "code",
   "execution_count": 2,
   "metadata": {},
   "outputs": [],
   "source": [
    "orders_data_path = '../data/orders.json'\n",
    "stock_data_path = '../data/stock.json'\n",
    "\n",
    "with open(orders_data_path) as f:\n",
    "    orders_data = json.load(f)\n",
    "with open(stock_data_path) as f:\n",
    "    stock_data = json.load(f)"
   ]
  },
  {
   "cell_type": "code",
   "execution_count": 3,
   "metadata": {},
   "outputs": [
    {
     "data": {
      "text/plain": [
       "{'two_portions': 2, 'four_portions': 4}"
      ]
     },
     "execution_count": 3,
     "metadata": {},
     "output_type": "execute_result"
    }
   ],
   "source": [
    "{k : list(orders_data['two_recipes'].keys()).index(k)*2+2 for k in list(orders_data['two_recipes'].keys())}"
   ]
  },
  {
   "cell_type": "code",
   "execution_count": 4,
   "metadata": {},
   "outputs": [
    {
     "data": {
      "text/html": [
       "<div>\n",
       "<style scoped>\n",
       "    .dataframe tbody tr th:only-of-type {\n",
       "        vertical-align: middle;\n",
       "    }\n",
       "\n",
       "    .dataframe tbody tr th {\n",
       "        vertical-align: top;\n",
       "    }\n",
       "\n",
       "    .dataframe thead th {\n",
       "        text-align: right;\n",
       "    }\n",
       "</style>\n",
       "<table border=\"1\" class=\"dataframe\">\n",
       "  <thead>\n",
       "    <tr style=\"text-align: right;\">\n",
       "      <th></th>\n",
       "      <th>four_portions</th>\n",
       "      <th>two_portions</th>\n",
       "    </tr>\n",
       "  </thead>\n",
       "  <tbody>\n",
       "    <tr>\n",
       "      <th>two_recipes</th>\n",
       "      <td>13363</td>\n",
       "      <td>58684</td>\n",
       "    </tr>\n",
       "    <tr>\n",
       "      <th>three_recipes</th>\n",
       "      <td>22061</td>\n",
       "      <td>103886</td>\n",
       "    </tr>\n",
       "    <tr>\n",
       "      <th>four_recipes</th>\n",
       "      <td>18434</td>\n",
       "      <td>35154</td>\n",
       "    </tr>\n",
       "  </tbody>\n",
       "</table>\n",
       "</div>"
      ],
      "text/plain": [
       "               four_portions  two_portions\n",
       "two_recipes            13363         58684\n",
       "three_recipes          22061        103886\n",
       "four_recipes           18434         35154"
      ]
     },
     "execution_count": 4,
     "metadata": {},
     "output_type": "execute_result"
    }
   ],
   "source": [
    "pd.DataFrame(orders_data).T"
   ]
  },
  {
   "cell_type": "code",
   "execution_count": 5,
   "metadata": {},
   "outputs": [
    {
     "data": {
      "text/html": [
       "<div>\n",
       "<style scoped>\n",
       "    .dataframe tbody tr th:only-of-type {\n",
       "        vertical-align: middle;\n",
       "    }\n",
       "\n",
       "    .dataframe tbody tr th {\n",
       "        vertical-align: top;\n",
       "    }\n",
       "\n",
       "    .dataframe thead th {\n",
       "        text-align: right;\n",
       "    }\n",
       "</style>\n",
       "<table border=\"1\" class=\"dataframe\">\n",
       "  <thead>\n",
       "    <tr style=\"text-align: right;\">\n",
       "      <th></th>\n",
       "      <th>stock_count</th>\n",
       "    </tr>\n",
       "  </thead>\n",
       "  <tbody>\n",
       "    <tr>\n",
       "      <th>recipe_1</th>\n",
       "      <td>3359</td>\n",
       "    </tr>\n",
       "    <tr>\n",
       "      <th>recipe_2</th>\n",
       "      <td>6502</td>\n",
       "    </tr>\n",
       "    <tr>\n",
       "      <th>recipe_3</th>\n",
       "      <td>1805</td>\n",
       "    </tr>\n",
       "    <tr>\n",
       "      <th>recipe_4</th>\n",
       "      <td>11217</td>\n",
       "    </tr>\n",
       "    <tr>\n",
       "      <th>recipe_5</th>\n",
       "      <td>1228</td>\n",
       "    </tr>\n",
       "    <tr>\n",
       "      <th>recipe_6</th>\n",
       "      <td>4370</td>\n",
       "    </tr>\n",
       "    <tr>\n",
       "      <th>recipe_7</th>\n",
       "      <td>12104</td>\n",
       "    </tr>\n",
       "    <tr>\n",
       "      <th>recipe_8</th>\n",
       "      <td>2304</td>\n",
       "    </tr>\n",
       "    <tr>\n",
       "      <th>recipe_9</th>\n",
       "      <td>9190</td>\n",
       "    </tr>\n",
       "    <tr>\n",
       "      <th>recipe_10</th>\n",
       "      <td>9149</td>\n",
       "    </tr>\n",
       "    <tr>\n",
       "      <th>recipe_11</th>\n",
       "      <td>13370</td>\n",
       "    </tr>\n",
       "    <tr>\n",
       "      <th>recipe_12</th>\n",
       "      <td>15490</td>\n",
       "    </tr>\n",
       "    <tr>\n",
       "      <th>recipe_13</th>\n",
       "      <td>16334</td>\n",
       "    </tr>\n",
       "    <tr>\n",
       "      <th>recipe_14</th>\n",
       "      <td>13140</td>\n",
       "    </tr>\n",
       "    <tr>\n",
       "      <th>recipe_15</th>\n",
       "      <td>3659</td>\n",
       "    </tr>\n",
       "    <tr>\n",
       "      <th>recipe_16</th>\n",
       "      <td>1280</td>\n",
       "    </tr>\n",
       "    <tr>\n",
       "      <th>recipe_17</th>\n",
       "      <td>10059</td>\n",
       "    </tr>\n",
       "    <tr>\n",
       "      <th>recipe_18</th>\n",
       "      <td>16849</td>\n",
       "    </tr>\n",
       "    <tr>\n",
       "      <th>recipe_19</th>\n",
       "      <td>17576</td>\n",
       "    </tr>\n",
       "    <tr>\n",
       "      <th>recipe_20</th>\n",
       "      <td>4404</td>\n",
       "    </tr>\n",
       "    <tr>\n",
       "      <th>recipe_21</th>\n",
       "      <td>17933</td>\n",
       "    </tr>\n",
       "    <tr>\n",
       "      <th>recipe_22</th>\n",
       "      <td>23955</td>\n",
       "    </tr>\n",
       "  </tbody>\n",
       "</table>\n",
       "</div>"
      ],
      "text/plain": [
       "           stock_count\n",
       "recipe_1          3359\n",
       "recipe_2          6502\n",
       "recipe_3          1805\n",
       "recipe_4         11217\n",
       "recipe_5          1228\n",
       "recipe_6          4370\n",
       "recipe_7         12104\n",
       "recipe_8          2304\n",
       "recipe_9          9190\n",
       "recipe_10         9149\n",
       "recipe_11        13370\n",
       "recipe_12        15490\n",
       "recipe_13        16334\n",
       "recipe_14        13140\n",
       "recipe_15         3659\n",
       "recipe_16         1280\n",
       "recipe_17        10059\n",
       "recipe_18        16849\n",
       "recipe_19        17576\n",
       "recipe_20         4404\n",
       "recipe_21        17933\n",
       "recipe_22        23955"
      ]
     },
     "execution_count": 5,
     "metadata": {},
     "output_type": "execute_result"
    }
   ],
   "source": [
    "pd.DataFrame(stock_data).T"
   ]
  },
  {
   "cell_type": "code",
   "execution_count": 6,
   "metadata": {},
   "outputs": [
    {
     "data": {
      "text/plain": [
       "{'recipe_1': {'stock_count': 3359},\n",
       " 'recipe_2': {'stock_count': 6502},\n",
       " 'recipe_3': {'stock_count': 1805},\n",
       " 'recipe_4': {'stock_count': 11217},\n",
       " 'recipe_5': {'stock_count': 1228},\n",
       " 'recipe_6': {'stock_count': 4370},\n",
       " 'recipe_7': {'stock_count': 12104},\n",
       " 'recipe_8': {'stock_count': 2304},\n",
       " 'recipe_9': {'stock_count': 9190},\n",
       " 'recipe_10': {'stock_count': 9149},\n",
       " 'recipe_11': {'stock_count': 13370},\n",
       " 'recipe_12': {'stock_count': 15490},\n",
       " 'recipe_13': {'stock_count': 16334},\n",
       " 'recipe_14': {'stock_count': 13140},\n",
       " 'recipe_15': {'stock_count': 3659},\n",
       " 'recipe_16': {'stock_count': 1280},\n",
       " 'recipe_17': {'stock_count': 10059},\n",
       " 'recipe_18': {'stock_count': 16849},\n",
       " 'recipe_19': {'stock_count': 17576},\n",
       " 'recipe_20': {'stock_count': 4404},\n",
       " 'recipe_21': {'stock_count': 17933},\n",
       " 'recipe_22': {'stock_count': 23955}}"
      ]
     },
     "execution_count": 6,
     "metadata": {},
     "output_type": "execute_result"
    }
   ],
   "source": [
    "stock_data"
   ]
  },
  {
   "cell_type": "code",
   "execution_count": 7,
   "metadata": {},
   "outputs": [
    {
     "data": {
      "text/plain": [
       "215277"
      ]
     },
     "execution_count": 7,
     "metadata": {},
     "output_type": "execute_result"
    }
   ],
   "source": [
    "sum([ i['stock_count'] for i in stock_data.values() ])"
   ]
  },
  {
   "cell_type": "code",
   "execution_count": 8,
   "metadata": {},
   "outputs": [
    {
     "data": {
      "text/plain": [
       "251582"
      ]
     },
     "execution_count": 8,
     "metadata": {},
     "output_type": "execute_result"
    }
   ],
   "source": [
    "sum([j for i in orders_data.values() for j in i.values()])"
   ]
  },
  {
   "cell_type": "code",
   "execution_count": 9,
   "metadata": {},
   "outputs": [
    {
     "data": {
      "text/plain": [
       "[1228,\n",
       " 1280,\n",
       " 1805,\n",
       " 2304,\n",
       " 3359,\n",
       " 3659,\n",
       " 4370,\n",
       " 4404,\n",
       " 6502,\n",
       " 9149,\n",
       " 9190,\n",
       " 10059,\n",
       " 11217,\n",
       " 12104,\n",
       " 13140,\n",
       " 13370,\n",
       " 15490,\n",
       " 16334,\n",
       " 16849,\n",
       " 17576,\n",
       " 17933,\n",
       " 23955]"
      ]
     },
     "execution_count": 9,
     "metadata": {},
     "output_type": "execute_result"
    }
   ],
   "source": [
    "sorted([ i['stock_count'] for i in stock_data.values() ])"
   ]
  },
  {
   "cell_type": "code",
   "execution_count": 10,
   "metadata": {},
   "outputs": [],
   "source": [
    "def fetch_portion(stock_list, num_recipe, num_portion, quantity):\n",
    "    sorted_stock_list = np.array(sorted(stock_list))\n",
    "    stock_index=0\n",
    "    while quantity > 0:\n",
    "        if len(sorted_stock_list) < stock_index+num_recipe:\n",
    "            return None\n",
    "        to_fetch = min(quantity*num_portion, sorted_stock_list[stock_index] - sorted_stock_list[stock_index] % num_portion)\n",
    "        sorted_stock_list[stock_index:stock_index+num_recipe] = sorted_stock_list[stock_index:stock_index+num_recipe] - to_fetch\n",
    "        quantity = quantity - (to_fetch / num_portion)\n",
    "        stock_index += 1\n",
    "    \n",
    "    return sorted_stock_list"
   ]
  },
  {
   "cell_type": "code",
   "execution_count": 11,
   "metadata": {},
   "outputs": [],
   "source": [
    "def r_to_num(r):\n",
    "    return {'two_recipes': 2, 'three_recipes': 3, 'four_recipes': 4}.get(r)\n",
    "    \n",
    "def p_to_num(p):\n",
    "    return {'two_portions': 2, 'four_portions': 4}.get(p)"
   ]
  },
  {
   "cell_type": "code",
   "execution_count": 12,
   "metadata": {},
   "outputs": [
    {
     "name": "stdout",
     "output_type": "stream",
     "text": [
      "[(4, 4, 18434), (4, 2, 35154), (3, 4, 22061), (3, 2, 103886), (2, 4, 13363), (2, 2, 58684)]\n"
     ]
    }
   ],
   "source": [
    "recipe_portion_quantity_tuple = [(r_to_num(r), p_to_num(p), orders_data[r][p]) for r in orders_data.keys() for p in orders_data[r].keys()]\n",
    "recipe_portion_quantity_tuple = sorted(recipe_portion_quantity_tuple, key=lambda c : (c[0], c[1]), reverse = True)\n",
    "print(recipe_portion_quantity_tuple)"
   ]
  },
  {
   "cell_type": "code",
   "execution_count": 13,
   "metadata": {},
   "outputs": [],
   "source": [
    "recipe_portion_quantity_tuple = [(4, 4, 1000) , (4,2, 360), (3,4, 1230), (3,2, 5430), (2,4, 9870), (2,2, 10000)]"
   ]
  },
  {
   "cell_type": "code",
   "execution_count": 14,
   "metadata": {},
   "outputs": [
    {
     "name": "stdout",
     "output_type": "stream",
     "text": [
      "[3359, 6502, 1805, 11217, 1228, 4370, 12104, 2304, 9190, 9149, 13370, 15490, 16334, 13140, 3659, 1280, 10059, 16849, 17576, 4404, 17933, 23955]\n"
     ]
    }
   ],
   "source": [
    "stock_list = [ i['stock_count'] for i in stock_data.values() ]\n",
    "print(stock_list)"
   ]
  },
  {
   "cell_type": "code",
   "execution_count": 15,
   "metadata": {},
   "outputs": [
    {
     "name": "stderr",
     "output_type": "stream",
     "text": [
      "100%|██████████| 6/6 [00:00<00:00, 1033.08it/s]"
     ]
    },
    {
     "name": "stdout",
     "output_type": "stream",
     "text": [
      "[1228, 1280, 1805, 2304, 3359, 3659, 4370, 4404, 6502, 9149, 9190, 10059, 11217, 12104, 13140, 13370, 15490, 16334, 16849, 17576, 17933, 23955]\n",
      "[0, 0, 0, 1, 587, 939, 2174, 2708, 6502, 9149, 9190, 10059, 11217, 12104, 13140, 13370, 15490, 16334, 16849, 17576, 17933, 23955]\n",
      "[0, 0, 0, 1, 1, 219, 1454, 1988, 6368, 9149, 9190, 10059, 11217, 12104, 13140, 13370, 15490, 16334, 16849, 17576, 17933, 23955]\n",
      "[0, 0, 0, 0, 1, 1, 2, 3, 1664, 5681, 6258, 10059, 11217, 12104, 13140, 13370, 15490, 16334, 16849, 17576, 17933, 23955]\n",
      "[0, 0, 0, 0, 0, 0, 0, 1, 1, 1, 1, 863, 6039, 7504, 13140, 13370, 15490, 16334, 16849, 17576, 17933, 23955]\n",
      "[0, 0, 0, 0, 0, 0, 0, 0, 0, 1, 1, 1, 1, 2, 2, 2, 3, 3, 12033, 16160, 17933, 23955]\n",
      "[0, 0, 0, 0, 0, 0, 0, 0, 0, 0, 0, 0, 0, 1, 1, 1, 1, 1, 1, 1, 9969, 20121]\n",
      "True\n"
     ]
    },
    {
     "name": "stderr",
     "output_type": "stream",
     "text": [
      "\n"
     ]
    }
   ],
   "source": [
    "print(sorted(stock_list))\n",
    "for r, p, q in tqdm(recipe_portion_quantity_tuple):\n",
    "    stock_list = fetch_portion(stock_list, r, p, q)\n",
    "    if stock_list is None:\n",
    "        print(False)\n",
    "        break\n",
    "    print(sorted(stock_list))\n",
    "if stock_list is not None:\n",
    "    print(True)"
   ]
  },
  {
   "cell_type": "code",
   "execution_count": 16,
   "metadata": {},
   "outputs": [
    {
     "data": {
      "text/plain": [
       "30097"
      ]
     },
     "execution_count": 16,
     "metadata": {},
     "output_type": "execute_result"
    }
   ],
   "source": [
    "sum([0, 0, 0, 0, 0, 0, 0, 0, 0, 0, 0, 0, 0, 1, 1, 1, 1, 1, 1, 1, 9969, 20121])"
   ]
  },
  {
   "cell_type": "code",
   "execution_count": 17,
   "metadata": {},
   "outputs": [
    {
     "data": {
      "text/plain": [
       "185180"
      ]
     },
     "execution_count": 17,
     "metadata": {},
     "output_type": "execute_result"
    }
   ],
   "source": [
    "sum([r*p*q for r, p, q in recipe_portion_quantity_tuple])"
   ]
  },
  {
   "cell_type": "code",
   "execution_count": 18,
   "metadata": {},
   "outputs": [
    {
     "data": {
      "text/plain": [
       "215277"
      ]
     },
     "execution_count": 18,
     "metadata": {},
     "output_type": "execute_result"
    }
   ],
   "source": [
    "sum([ i['stock_count'] for i in stock_data.values() ])"
   ]
  },
  {
   "cell_type": "code",
   "execution_count": 19,
   "metadata": {},
   "outputs": [
    {
     "data": {
      "text/plain": [
       "30097"
      ]
     },
     "execution_count": 19,
     "metadata": {},
     "output_type": "execute_result"
    }
   ],
   "source": [
    "215277 - 185180"
   ]
  },
  {
   "cell_type": "code",
   "execution_count": 20,
   "metadata": {},
   "outputs": [
    {
     "data": {
      "text/plain": [
       "False"
      ]
     },
     "execution_count": 20,
     "metadata": {},
     "output_type": "execute_result"
    }
   ],
   "source": [
    "from recipe_allocator import defaults_recipe_allocation\n",
    "defaults_recipe_allocation(orders_data, stock_data)"
   ]
  },
  {
   "cell_type": "code",
   "execution_count": 21,
   "metadata": {},
   "outputs": [
    {
     "data": {
      "text/plain": [
       "{'two_recipes': {'two_portions': 58684, 'four_portions': 13363},\n",
       " 'three_recipes': {'two_portions': 103886, 'four_portions': 22061},\n",
       " 'four_recipes': {'two_portions': 35154, 'four_portions': 18434}}"
      ]
     },
     "execution_count": 21,
     "metadata": {},
     "output_type": "execute_result"
    }
   ],
   "source": [
    "orders_data"
   ]
  },
  {
   "cell_type": "code",
   "execution_count": 22,
   "metadata": {},
   "outputs": [],
   "source": [
    "orders_data = {'two_recipes': {'two_portions': 10000, 'four_portions': 9870},\n",
    " 'three_recipes': {'two_portions': 5430, 'four_portions': 1230},\n",
    " 'four_recipes': {'two_portions': 360, 'four_portions': 1000}}"
   ]
  },
  {
   "cell_type": "code",
   "execution_count": 23,
   "metadata": {},
   "outputs": [
    {
     "data": {
      "text/plain": [
       "True"
      ]
     },
     "execution_count": 23,
     "metadata": {},
     "output_type": "execute_result"
    }
   ],
   "source": [
    "defaults_recipe_allocation(orders_data, stock_data)"
   ]
  },
  {
   "cell_type": "code",
   "execution_count": 24,
   "metadata": {},
   "outputs": [
    {
     "name": "stdout",
     "output_type": "stream",
     "text": [
      "recipe stock list after iteration 1\n",
      "iteration 1 = 4 recipes, 4 portions, 1000 customers\n",
      "[0, 0, 0, 1, 587, 939, 2174, 2708, 6502, 9149, 9190, 10059, 11217, 12104, 13140, 13370, 15490, 16334, 16849, 17576, 17933, 23955]\n",
      "recipe stock list after iteration 2\n",
      "iteration 2 = 4 recipes, 2 portions, 360 customers\n",
      "[0, 0, 0, 1, 1, 219, 1454, 1988, 6368, 9149, 9190, 10059, 11217, 12104, 13140, 13370, 15490, 16334, 16849, 17576, 17933, 23955]\n",
      "recipe stock list after iteration 3\n",
      "iteration 3 = 3 recipes, 4 portions, 1230 customers\n",
      "[0, 0, 0, 0, 1, 1, 2, 3, 1664, 5681, 6258, 10059, 11217, 12104, 13140, 13370, 15490, 16334, 16849, 17576, 17933, 23955]\n",
      "recipe stock list after iteration 4\n",
      "iteration 4 = 3 recipes, 2 portions, 5430 customers\n",
      "[0, 0, 0, 0, 0, 0, 0, 1, 1, 1, 1, 863, 6039, 7504, 13140, 13370, 15490, 16334, 16849, 17576, 17933, 23955]\n",
      "recipe stock list after iteration 5\n",
      "iteration 5 = 2 recipes, 4 portions, 9870 customers\n",
      "[0, 0, 0, 0, 0, 0, 0, 0, 0, 1, 1, 1, 1, 2, 2, 2, 3, 3, 12033, 16160, 17933, 23955]\n",
      "recipe stock list after iteration 6\n",
      "iteration 6 = 2 recipes, 2 portions, 10000 customers\n",
      "[0, 0, 0, 0, 0, 0, 0, 0, 0, 0, 0, 0, 0, 1, 1, 1, 1, 1, 1, 1, 9969, 20121]\n"
     ]
    },
    {
     "data": {
      "text/plain": [
       "True"
      ]
     },
     "execution_count": 24,
     "metadata": {},
     "output_type": "execute_result"
    }
   ],
   "source": [
    "defaults_recipe_allocation(orders_data, stock_data, debug=1)"
   ]
  },
  {
   "cell_type": "code",
   "execution_count": null,
   "metadata": {},
   "outputs": [],
   "source": []
  }
 ],
 "metadata": {
  "kernelspec": {
   "display_name": "Python 3",
   "language": "python",
   "name": "python3"
  },
  "language_info": {
   "codemirror_mode": {
    "name": "ipython",
    "version": 3
   },
   "file_extension": ".py",
   "mimetype": "text/x-python",
   "name": "python",
   "nbconvert_exporter": "python",
   "pygments_lexer": "ipython3",
   "version": "3.7.0"
  }
 },
 "nbformat": 4,
 "nbformat_minor": 2
}
